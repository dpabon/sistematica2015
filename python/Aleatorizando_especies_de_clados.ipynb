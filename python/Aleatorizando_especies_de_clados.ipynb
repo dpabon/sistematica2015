{
 "metadata": {
  "name": ""
 },
 "nbformat": 3,
 "nbformat_minor": 0,
 "worksheets": [
  {
   "cells": [
    {
     "cell_type": "markdown",
     "metadata": {},
     "source": [
      "<h2> Esquema general </h2>"
     ]
    },
    {
     "cell_type": "code",
     "collapsed": false,
     "input": [
      "#!/usr/bin/python"
     ],
     "language": "python",
     "metadata": {},
     "outputs": []
    },
    {
     "cell_type": "markdown",
     "metadata": {},
     "source": [
      "<h3> Paquetes necesarios </h3>"
     ]
    },
    {
     "cell_type": "code",
     "collapsed": false,
     "input": [
      "import os\n",
      "import glob\n",
      "import readline\n",
      "import numpy as np\n",
      "import random\n",
      "#from Bio import "
     ],
     "language": "python",
     "metadata": {},
     "outputs": [],
     "prompt_number": 2
    },
    {
     "cell_type": "markdown",
     "metadata": {},
     "source": [
      "<h3> Codigo para aleatoriar las especies seleccionadas para el \"piloto\"<h3/>"
     ]
    },
    {
     "cell_type": "code",
     "collapsed": false,
     "input": [
      "\n",
      "\n",
      "clados= \"Caulobacterales\",  \"Eucaria\" , \"outgroup\",  \"Rhizobiales\",  \"Rhodobacterales\",  \"Rhodospirillales\",  \"Rickettsiales\", \"Rickettsiales_wang\" , \"SAR_11\",  \"Sphingomonadales\",\n",
      "seleccion= np.array([])\n",
      "for i in clados:\n",
      "    directorio=\"/home/tttt/MEGAsync/sistematica/proyecto/data/prueba_piloto/clados_aleatorizar/\"+i #Modifique esta linea para accesar al directorio desde su computador#\n",
      "    os.chdir(directorio)\n",
      "    t=open(\"especies.txt\",\"r\")\n",
      "    y=file.readlines(t)\n",
      "    print \"especie elegida para el clado \" +i, \":\", random.choice(y)"
     ],
     "language": "python",
     "metadata": {},
     "outputs": [
      {
       "output_type": "stream",
       "stream": "stdout",
       "text": [
        "especie elegida para el clado Caulobacterales : Acidiphilium cryptum JF-5\n",
        "\n",
        "especie elegida para el clado Eucaria : Arabidopsis thaliana\n",
        "\n",
        "especie elegida para el clado outgroup : Chromobacterium violaceum ATCC 12472\n",
        "\n",
        "especie elegida para el clado Rhizobiales : Rhizobium leguminosarum bv. trifolii WSM1325\n",
        "\n",
        "especie elegida para el clado Rhodobacterales : Hirschia baltica ATCC 49814\n",
        "\n",
        "especie elegida para el clado Rhodospirillales : Granulibacter bethesdensis CGDNIH1\n",
        "\n",
        "especie elegida para el clado Rickettsiales : Wolbachia endo. of Culex quin. Pel\n",
        "\n",
        "especie elegida para el clado Rickettsiales_wang : Endosymbiont of Acanthamoeba sp. UWC8 *\n",
        "\n",
        "especie elegida para el clado SAR_11 : Candidatus Pelagibacter ubique SAR11 HTCC1002\n",
        "\n",
        "especie elegida para el clado Sphingomonadales : Zymomonas mobilis subsp. mobilis ZM4\n",
        "\n"
       ]
      }
     ],
     "prompt_number": 11
    },
    {
     "cell_type": "code",
     "collapsed": false,
     "input": [],
     "language": "python",
     "metadata": {},
     "outputs": []
    }
   ],
   "metadata": {}
  }
 ]
}