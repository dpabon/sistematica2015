{
 "metadata": {
  "name": ""
 },
 "nbformat": 3,
 "nbformat_minor": 0,
 "worksheets": [
  {
   "cells": [
    {
     "cell_type": "code",
     "collapsed": false,
     "input": [
      "#!/usr/bin/python"
     ],
     "language": "python",
     "metadata": {},
     "outputs": []
    },
    {
     "cell_type": "code",
     "collapsed": false,
     "input": [
      "# -*- coding: utf-8 -*-\n",
      "\"\"\"\n",
      "Created on  28 04 2015\n",
      "\n",
      "@autor: danne\n",
      "@email: daniel.epm12@gmail.com\n",
      "\n",
      "\"EL ARTE NO ES UN ESPEJO DE LA REALIDAD\n",
      "SINO  UN MARTILLO PARA TRANSFORMARLA\"\n",
      "                        BERTORLT BRECHT\n",
      "\"\"\""
     ],
     "language": "python",
     "metadata": {},
     "outputs": []
    },
    {
     "cell_type": "code",
     "collapsed": false,
     "input": [
      "import os\n",
      "import glob\n",
      "import readline\n",
      "import numpy as np\n",
      "import random\n",
      "from Bio import Entrez"
     ],
     "language": "python",
     "metadata": {},
     "outputs": []
    },
    {
     "cell_type": "code",
     "collapsed": false,
     "input": [
      "\n",
      "from Bio import Entrez\n",
      "import time\n",
      "Entrez.email =\"daniel.epm12@gmail.com\"\n",
      "## We instead upload the list of ID beforehand \n",
      "gis=[23344058,120561278,144568726,135011568]\n",
      "for i in gis:\n",
      "    time.sleep(30)\n",
      "    request = Entrez.epost(\"nucleotide\",id=\",\".join(map(str,gis)))\n",
      "    result = Entrez.read(request)\n",
      "    webEnv = result[\"WebEnv\"]\n",
      "    queryKey = result[\"QueryKey\"]\n",
      "    handle = Entrez.efetch(db=\"nucleotide\",retmode=\"xml\", webenv=webEnv, query_key=queryKey)\n",
      "    for r in Entrez.parse(handle):\n",
      "    # Grab the GI \n",
      "        try:\n",
      "            gi=int([x for x in r['GBSeq_other-seqids'] if \"gi\" in x][0].split(\"|\")[1])\n",
      "        except ValueError:\n",
      "            gi=None\n",
      "        prompt=''   \n",
      "        variable=prompt,\">\"+ r[\"GBSeq_primary-accession\"]+\" \"+r[\"GBSeq_definition\"]+\"\\n\"+ str( r[\"GBSeq_sequence\"])\n",
      "        np.savetxt(str(gi)+'.fasta', variable, newline=\"\\n\", fmt=\"%s\")\n",
      "    "
     ],
     "language": "python",
     "metadata": {},
     "outputs": []
    }
   ],
   "metadata": {}
  }
 ]
}